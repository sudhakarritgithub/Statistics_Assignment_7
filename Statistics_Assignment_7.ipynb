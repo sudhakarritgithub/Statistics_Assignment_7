{
 "cells": [
  {
   "cell_type": "raw",
   "id": "f9c3503a-36fa-4905-aa51-de8363b065ad",
   "metadata": {},
   "source": [
    "                                                                       STATISTICS ASSIGNMENT - 7"
   ]
  },
  {
   "cell_type": "raw",
   "id": "4911eca9-b1f6-4acb-a3dc-983226340b0b",
   "metadata": {},
   "source": []
  },
  {
   "cell_type": "raw",
   "id": "0c8655d9-9c0b-4c81-b9d7-e9aea87600f1",
   "metadata": {},
   "source": []
  },
  {
   "cell_type": "raw",
   "id": "9510072b-84e3-4f02-a3f9-da13d58cadac",
   "metadata": {},
   "source": [
    "Ques.1 Calculate the 95% confidence interval for a sample of data with a mean of 50 and a standard deviation of 5 using Python. Interpret the results"
   ]
  },
  {
   "cell_type": "code",
   "execution_count": 1,
   "id": "2a41869d-eb4c-461b-9914-9c27bd22a796",
   "metadata": {},
   "outputs": [
    {
     "name": "stdout",
     "output_type": "stream",
     "text": [
      "95% Confidence Interval: (48.210805856282846, 51.789194143717154)\n"
     ]
    }
   ],
   "source": [
    "import scipy.stats as stats\n",
    "\n",
    "# Sample data\n",
    "mean = 50\n",
    "std_dev = 5\n",
    "sample_size = 30  # Assuming sample size of 30\n",
    "\n",
    "# Calculate standard error (SE)\n",
    "standard_error = std_dev / (sample_size**0.5)\n",
    "\n",
    "# Calculate the 95% confidence interval\n",
    "confidence_interval = stats.norm.interval(0.95, loc=mean, scale=standard_error)\n",
    "\n",
    "# Print the confidence interval\n",
    "print(\"95% Confidence Interval:\", confidence_interval)\n"
   ]
  },
  {
   "cell_type": "raw",
   "id": "d3fec44e-e112-4fb5-b03d-32074e2153f9",
   "metadata": {},
   "source": []
  },
  {
   "cell_type": "raw",
   "id": "788a31d6-2b4a-4dff-b164-7f6ef99f832f",
   "metadata": {},
   "source": [
    "Ques.2  Conduct a chi-square goodness of fit test to determine if the distribution of colors of M&Ms in a bag matches the expected distribution of 20% blue, 20% orange, 20% green,           10% yellow, 10% red, and 20% brown. Use Python to perform the test with a significance level of 0.05"
   ]
  },
  {
   "cell_type": "code",
   "execution_count": 2,
   "id": "fb3d4b87-c903-4464-b795-468433568380",
   "metadata": {},
   "outputs": [
    {
     "name": "stdout",
     "output_type": "stream",
     "text": [
      "Chi-square statistic: 3.1\n",
      "P-value: 0.6845720146699826\n",
      "Fail to reject null hypothesis: The observed distribution does not differ significantly from the expected distribution.\n"
     ]
    }
   ],
   "source": [
    "import numpy as np\n",
    "from scipy import stats\n",
    "\n",
    "# Observed frequencies (you would replace these with your actual data)\n",
    "observed_freq = np.array([18, 22, 15, 9, 11, 25])  # Assuming these are counts for blue, orange, green, yellow, red, brown\n",
    "\n",
    "# Expected frequencies based on the expected distribution\n",
    "expected_freq = np.array([0.2, 0.2, 0.2, 0.1, 0.1, 0.2]) * np.sum(observed_freq)\n",
    "\n",
    "# Perform the chi-square test\n",
    "chi2_stat, p_val = stats.chisquare(observed_freq, f_exp=expected_freq)\n",
    "\n",
    "# Output the results\n",
    "print(\"Chi-square statistic:\", chi2_stat)\n",
    "print(\"P-value:\", p_val)\n",
    "\n",
    "# Determine significance based on p-value and chosen alpha level\n",
    "alpha = 0.05\n",
    "if p_val < alpha:\n",
    "    print(\"Reject null hypothesis: The observed distribution differs significantly from the expected distribution.\")\n",
    "else:\n",
    "    print(\"Fail to reject null hypothesis: The observed distribution does not differ significantly from the expected distribution.\")\n"
   ]
  },
  {
   "cell_type": "raw",
   "id": "3d484c96-1281-4ed7-b378-21528a748f4b",
   "metadata": {},
   "source": []
  },
  {
   "cell_type": "raw",
   "id": "c851af9a-d153-4177-8b7d-42b8f7fcc7a6",
   "metadata": {},
   "source": [
    "Ques.3  Use Python to calculate the chi-square statistic and p-value for a contingency table with the following data:\n",
    "        Interpret the results of the test."
   ]
  },
  {
   "cell_type": "code",
   "execution_count": null,
   "id": "c8dead8a-1eb5-47b3-b6e3-e9e432eb12df",
   "metadata": {},
   "outputs": [],
   "source": [
    "import numpy as np\n",
    "from scipy.stats import chi2_contingency\n",
    "\n",
    "# Contingency table data (hair color vs. eye color)\n",
    "observed = np.array([[30, 10, 20],    # Brown eyes\n",
    "                     [15, 20, 25],    # Blue eyes\n",
    "                     [5, 10, 15]])    # Green eyes\n",
    "\n",
    "# Perform chi-square test\n",
    "chi2_stat, p_val, dof, expected = chi2_contingency(observed)\n",
    "\n",
    "# Output the results\n",
    "print(\"Chi-square statistic:\", chi2_stat)\n",
    "print(\"P-value:\", p_val)\n",
    "print(\"Degrees of freedom:\", dof)\n",
    "print(\"Expected frequencies table:\")\n",
    "print(expected)\n"
   ]
  },
  {
   "cell_type": "raw",
   "id": "7cd4084e-47b5-486d-b899-3ef0b36646f3",
   "metadata": {},
   "source": []
  },
  {
   "cell_type": "raw",
   "id": "961185db-7834-4614-8d47-89f0cc258522",
   "metadata": {},
   "source": [
    "Ques.4  A study of the prevalence of smoking in a population of 500 individuals found that 60 individuals smoked. Use Python to calculate the 95% confidence interval for the true           proportion of individuals in the population who smoke"
   ]
  },
  {
   "cell_type": "code",
   "execution_count": 3,
   "id": "ae2b41f5-ec1b-477f-b666-b6d8ea6ab444",
   "metadata": {},
   "outputs": [
    {
     "name": "stdout",
     "output_type": "stream",
     "text": [
      "95% Confidence Interval for the true proportion of smokers: (0.0915, 0.1485)\n"
     ]
    }
   ],
   "source": [
    "import scipy.stats as stats\n",
    "import numpy as np\n",
    "\n",
    "# Sample data\n",
    "n = 500  # Total number of individuals in the population\n",
    "x = 60   # Number of individuals who smoke\n",
    "\n",
    "# Calculate sample proportion\n",
    "p_hat = x / n\n",
    "\n",
    "# Calculate standard error\n",
    "standard_error = np.sqrt(p_hat * (1 - p_hat) / n)\n",
    "\n",
    "# Calculate the margin of error (95% confidence level)\n",
    "margin_of_error = 1.96 * standard_error  # 1.96 is the z-score for 95% confidence interval\n",
    "\n",
    "# Calculate the confidence interval\n",
    "lower_bound = p_hat - margin_of_error\n",
    "upper_bound = p_hat + margin_of_error\n",
    "\n",
    "# Print the confidence interval\n",
    "print(f\"95% Confidence Interval for the true proportion of smokers: ({lower_bound:.4f}, {upper_bound:.4f})\")\n"
   ]
  },
  {
   "cell_type": "raw",
   "id": "2dfc20e9-2fd6-41cb-9da7-0705d3c21207",
   "metadata": {},
   "source": []
  },
  {
   "cell_type": "raw",
   "id": "fbbb7b76-15cc-42cc-a9bb-a12578bf7ed2",
   "metadata": {},
   "source": [
    "Ques.5 Calculate the 90% confidence interval for a sample of data with a mean of 75 and a standard deviation of 12 using Python. Interpret the results"
   ]
  },
  {
   "cell_type": "code",
   "execution_count": 4,
   "id": "ec342613-0020-4b9b-8f2c-b178635bf164",
   "metadata": {},
   "outputs": [
    {
     "name": "stdout",
     "output_type": "stream",
     "text": [
      "90% Confidence Interval: (72.20859083117598, 77.79140916882402)\n",
      "We are 90% confident that the true population mean is between 72.21 and 77.79.\n"
     ]
    }
   ],
   "source": [
    "import scipy.stats as stats\n",
    "import numpy as np\n",
    "\n",
    "# Sample data\n",
    "mean = 75\n",
    "std_dev = 12\n",
    "sample_size = 50  # Assuming sample size of 50\n",
    "\n",
    "# Calculate standard error (SE)\n",
    "standard_error = std_dev / np.sqrt(sample_size)\n",
    "\n",
    "# Calculate the 90% confidence interval\n",
    "confidence_interval = stats.norm.interval(0.90, loc=mean, scale=standard_error)\n",
    "\n",
    "# Print the confidence interval\n",
    "print(f\"90% Confidence Interval: {confidence_interval}\")\n",
    "\n",
    "# Extracting lower and upper bounds\n",
    "lower_bound = confidence_interval[0]\n",
    "upper_bound = confidence_interval[1]\n",
    "\n",
    "# Interpretation\n",
    "print(f\"We are 90% confident that the true population mean is between {lower_bound:.2f} and {upper_bound:.2f}.\")\n"
   ]
  },
  {
   "cell_type": "raw",
   "id": "b0ec3d0f-84b8-4dc5-9380-def3c6c7cf87",
   "metadata": {},
   "source": []
  },
  {
   "cell_type": "raw",
   "id": "f564c40f-b6de-4810-9df7-ec4e3ea73674",
   "metadata": {},
   "source": [
    "Ques.6 Use Python to plot the chi-square distribution with 10 degrees of freedom. Label the axes and shade the area corresponding to a chi-square statistic of 15."
   ]
  },
  {
   "cell_type": "code",
   "execution_count": 5,
   "id": "82b78db1-6e92-4617-a4e8-c193f4a4db5c",
   "metadata": {},
   "outputs": [
    {
     "data": {
      "image/png": "[encoded data removed]",
      "text/plain": [
       "<Figure size 800x600 with 1 Axes>"
      ]
     },
     "metadata": {},
     "output_type": "display_data"
    }
   ],
   "source": [
    "import numpy as np\n",
    "import matplotlib.pyplot as plt\n",
    "import scipy.stats as stats\n",
    "\n",
    "# Degrees of freedom\n",
    "df = 10\n",
    "\n",
    "# Generate x values for chi-square distribution\n",
    "x = np.linspace(0, 30, 1000)  # Adjust the range based on your distribution characteristics\n",
    "\n",
    "# Chi-square distribution values for the given degrees of freedom\n",
    "chi2_values = stats.chi2.pdf(x, df)\n",
    "\n",
    "# Plot the chi-square distribution\n",
    "plt.figure(figsize=(8, 6))\n",
    "plt.plot(x, chi2_values, 'b-', label=f'Chi-square Distribution (df={df})')\n",
    "\n",
    "# Shade the area for chi-square statistic of 15\n",
    "shade_x = np.linspace(15, 30, 100)\n",
    "shade_y = stats.chi2.pdf(shade_x, df)\n",
    "plt.fill_between(shade_x, shade_y, color='red', alpha=0.3, label='Chi-square = 15')\n",
    "\n",
    "# Labeling the plot\n",
    "plt.title(f'Chi-square Distribution with {df} Degrees of Freedom')\n",
    "plt.xlabel('Chi-square Value')\n",
    "plt.ylabel('Probability Density')\n",
    "plt.legend()\n",
    "\n",
    "# Show plot\n",
    "plt.grid(True)\n",
    "plt.show()\n"
   ]
  },
  {
   "cell_type": "raw",
   "id": "571fced1-33a4-46cc-9045-d0e70f70de87",
   "metadata": {},
   "source": []
  },
  {
   "cell_type": "raw",
   "id": "4f8abd25-183c-41b0-ae68-7adfa73999e6",
   "metadata": {},
   "source": [
    "Ques.7  A random sample of 1000 people was asked if they preferred Coke or Pepsi. Of the sample, 520 preferred Coke. Calculate a 99% confidence interval for the true proportion of           people in the population who prefer Coke"
   ]
  },
  {
   "cell_type": "code",
   "execution_count": 6,
   "id": "e1e795e0-c1ce-4603-9492-13af41a56454",
   "metadata": {},
   "outputs": [
    {
     "name": "stdout",
     "output_type": "stream",
     "text": [
      "99% Confidence Interval for the true proportion of Coke preference: (0.4793051576779699, 0.5606948423220302)\n",
      "We are 99% confident that the true proportion of people who prefer Coke is between 0.4793 and 0.5607.\n"
     ]
    }
   ],
   "source": [
    "import numpy as np\n",
    "import scipy.stats as stats\n",
    "\n",
    "# Sample data\n",
    "n = 1000  # Total number of people in the sample\n",
    "x = 520   # Number of people who prefer Coke\n",
    "\n",
    "# Calculate sample proportion\n",
    "p_hat = x / n\n",
    "\n",
    "# Calculate standard error (SE) for proportion\n",
    "standard_error = np.sqrt(p_hat * (1 - p_hat) / n)\n",
    "\n",
    "# Calculate the 99% confidence interval\n",
    "confidence_interval = stats.norm.interval(0.99, loc=p_hat, scale=standard_error)\n",
    "\n",
    "# Print the confidence interval\n",
    "print(f\"99% Confidence Interval for the true proportion of Coke preference: {confidence_interval}\")\n",
    "\n",
    "# Extracting lower and upper bounds\n",
    "lower_bound = confidence_interval[0]\n",
    "upper_bound = confidence_interval[1]\n",
    "\n",
    "# Interpretation\n",
    "print(f\"We are 99% confident that the true proportion of people who prefer Coke is between {lower_bound:.4f} and {upper_bound:.4f}.\")\n"
   ]
  },
  {
   "cell_type": "raw",
   "id": "6511d431-1f1b-4fde-bcdf-d9855657afe8",
   "metadata": {},
   "source": []
  },
  {
   "cell_type": "raw",
   "id": "91a4c4a8-8173-476d-a7f8-5e1d3ffddef9",
   "metadata": {},
   "source": [
    "Ques.8 A researcher hypothesizes that a coin is biased towards tails. They flip the coin 100 times and observe 45 tails. Conduct a chi-square goodness of fit test to determine if          the observed frequencies match the expected frequencies of a fair coin. Use a significance level of 0.05"
   ]
  },
  {
   "cell_type": "code",
   "execution_count": 7,
   "id": "1591b200-845f-4965-a66c-f9826e810215",
   "metadata": {},
   "outputs": [
    {
     "name": "stdout",
     "output_type": "stream",
     "text": [
      "Chi-square statistic: 1.0\n",
      "P-value: 0.31731050786291115\n",
      "Fail to reject null hypothesis: The observed frequencies fit the expected frequencies of a fair coin.\n"
     ]
    }
   ],
   "source": [
    "import numpy as np\n",
    "import scipy.stats as stats\n",
    "\n",
    "# Observed frequencies\n",
    "observed_freq = np.array([55, 45])  # 55 heads, 45 tails\n",
    "\n",
    "# Expected frequencies for a fair coin\n",
    "expected_freq = np.array([50, 50])  # 50 heads, 50 tails\n",
    "\n",
    "# Perform chi-square goodness of fit test\n",
    "chi2_stat, p_val = stats.chisquare(observed_freq, f_exp=expected_freq)\n",
    "\n",
    "# Output the results\n",
    "print(\"Chi-square statistic:\", chi2_stat)\n",
    "print(\"P-value:\", p_val)\n",
    "\n",
    "# Determine significance based on p-value and chosen alpha level\n",
    "alpha = 0.05\n",
    "if p_val < alpha:\n",
    "    print(\"Reject null hypothesis: The observed frequencies do not fit the expected frequencies of a fair coin.\")\n",
    "else:\n",
    "    print(\"Fail to reject null hypothesis: The observed frequencies fit the expected frequencies of a fair coin.\")\n"
   ]
  },
  {
   "cell_type": "raw",
   "id": "8fc6e26b-1edd-416a-a28e-eb5545a7a6f9",
   "metadata": {},
   "source": []
  },
  {
   "cell_type": "raw",
   "id": "c25bc9b8-ed1e-498c-885c-a7bacaaf596c",
   "metadata": {},
   "source": [
    "Ques.9  A study was conducted to determine if there is an association between smoking status (smoker or non-smoker) and lung cancer diagnosis (yes or no). The results are shown in           the contingency table below. Conduct a chi-square test for independence to determine if there is a significant association between smoking status and lung cancer diagnosis.\n",
    "        Use a significance level of 0.05"
   ]
  },
  {
   "cell_type": "code",
   "execution_count": 9,
   "id": "718bf16c-4cc7-4e87-864b-f5dc279fe2ac",
   "metadata": {},
   "outputs": [
    {
     "name": "stdout",
     "output_type": "stream",
     "text": [
      "Chi-square statistic: 12.057347670250895\n",
      "P-value: 0.0005158863863703744\n",
      "Reject null hypothesis: There is a significant association between smoking status and lung cancer diagnosis.\n"
     ]
    }
   ],
   "source": [
    "import numpy as np\n",
    "from scipy.stats import chi2_contingency\n",
    "\n",
    "# Contingency table (observed frequencies)\n",
    "observed = np.array([[60, 140],\n",
    "                     [30, 170]])\n",
    "\n",
    "# Perform chi-square test for independence\n",
    "chi2_stat, p_val, dof, expected = chi2_contingency(observed)\n",
    "\n",
    "# Output the results\n",
    "print(\"Chi-square statistic:\", chi2_stat)\n",
    "print(\"P-value:\", p_val)\n",
    "\n",
    "# Determine significance based on p-value and chosen alpha level\n",
    "alpha = 0.05\n",
    "if p_val < alpha:\n",
    "    print(\"Reject null hypothesis: There is a significant association between smoking status and lung cancer diagnosis.\")\n",
    "else:\n",
    "    print(\"Fail to reject null hypothesis: There is no significant association between smoking status and lung cancer diagnosis.\")\n"
   ]
  },
  {
   "cell_type": "raw",
   "id": "136bda1f-a3de-42e6-8013-02fdbaaeddea",
   "metadata": {},
   "source": []
  },
  {
   "cell_type": "raw",
   "id": "29c4d902-6ae7-47f5-ae69-b6e6ab74b12b",
   "metadata": {},
   "source": [
    "Ques.10  A study was conducted to determine if the proportion of people who prefer milk chocolate, dark chocolate, or white chocolate is different in the U.S. versus the U.K. A              random sample of 500 people from the U.S. and a random sample of 500 people from the U.K. were surveyed. The results are shown in the contingency table below. Conduct a              chi-square test for independence to determine if there is a significant association between chocolate preference and country of origin.Use a significance level of 0.01."
   ]
  },
  {
   "cell_type": "code",
   "execution_count": 10,
   "id": "ec2e396f-e92c-4cbc-bc5b-da7470bc50d1",
   "metadata": {},
   "outputs": [
    {
     "name": "stdout",
     "output_type": "stream",
     "text": [
      "Chi-square statistic: 13.393665158371041\n",
      "P-value: 0.0012348168997745918\n",
      "Reject null hypothesis: There is a significant association between chocolate preference and country of origin.\n"
     ]
    }
   ],
   "source": [
    "import numpy as np\n",
    "from scipy.stats import chi2_contingency\n",
    "\n",
    "# Contingency table (observed frequencies)\n",
    "observed = np.array([[200, 150, 150],\n",
    "                     [225, 175, 100]])\n",
    "\n",
    "# Perform chi-square test for independence\n",
    "chi2_stat, p_val, dof, expected = chi2_contingency(observed)\n",
    "\n",
    "# Output the results\n",
    "print(\"Chi-square statistic:\", chi2_stat)\n",
    "print(\"P-value:\", p_val)\n",
    "\n",
    "# Determine significance based on p-value and chosen alpha level\n",
    "alpha = 0.01\n",
    "if p_val < alpha:\n",
    "    print(\"Reject null hypothesis: There is a significant association between chocolate preference and country of origin.\")\n",
    "else:\n",
    "    print(\"Fail to reject null hypothesis: There is no significant association between chocolate preference and country of origin.\")\n"
   ]
  },
  {
   "cell_type": "raw",
   "id": "b3efc84e-23a6-4cdd-80cc-f9d13c0f8fc3",
   "metadata": {},
   "source": []
  },
  {
   "cell_type": "raw",
   "id": "9df6b40b-d365-4090-8940-be427302e32e",
   "metadata": {},
   "source": [
    "Ques.11  A random sample of 30 people was selected from a population with an unknown mean and standard deviation. The sample mean was found to be 72 and the sample standard                 deviation was found to be 10. Conduct a hypothesis test to determine if the population mean is significantly different from 70. Use a significance level of 0.05"
   ]
  },
  {
   "cell_type": "code",
   "execution_count": 11,
   "id": "cbf2a141-3c6c-442d-a197-2298c7e3166e",
   "metadata": {},
   "outputs": [
    {
     "name": "stdout",
     "output_type": "stream",
     "text": [
      "t-statistic: 1.0954451150103321\n",
      "Critical value: 2.045229642132703\n",
      "Fail to reject null hypothesis: The population mean is not significantly different from 70.\n"
     ]
    }
   ],
   "source": [
    "import scipy.stats as stats\n",
    "\n",
    "# Sample information\n",
    "sample_mean = 72\n",
    "sample_std = 10\n",
    "n = 30\n",
    "population_mean = 70\n",
    "alpha = 0.05\n",
    "\n",
    "# Calculate the t-statistic\n",
    "t_statistic = (sample_mean - population_mean) / (sample_std / (n**0.5))\n",
    "\n",
    "# Calculate the critical value (two-tailed test)\n",
    "critical_value = stats.t.ppf(1 - alpha/2, df=n-1)\n",
    "\n",
    "# Print the test statistic and critical value\n",
    "print(f\"t-statistic: {t_statistic}\")\n",
    "print(f\"Critical value: {critical_value}\")\n",
    "\n",
    "# Compare the test statistic with the critical value and make a decision\n",
    "if abs(t_statistic) > critical_value:\n",
    "    print(\"Reject null hypothesis: The population mean is significantly different from 70.\")\n",
    "else:\n",
    "    print(\"Fail to reject null hypothesis: The population mean is not significantly different from 70.\")\n"
   ]
  },
  {
   "cell_type": "code",
   "execution_count": null,
   "id": "6333b1fd-f746-4bbf-9021-444bf9f42701",
   "metadata": {},
   "outputs": [],
   "source": []
  }
 ],
 "metadata": {
  "kernelspec": {
   "display_name": "Python 3 (ipykernel)",
   "language": "python",
   "name": "python3"
  },
  "language_info": {
   "codemirror_mode": {
    "name": "ipython",
    "version": 3
   },
   "file_extension": ".py",
   "mimetype": "text/x-python",
   "name": "python",
   "nbconvert_exporter": "python",
   "pygments_lexer": "ipython3",
   "version": "3.10.8"
  }
 },
 "nbformat": 4,
 "nbformat_minor": 5
}
